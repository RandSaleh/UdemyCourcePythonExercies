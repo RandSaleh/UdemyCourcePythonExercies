{
 "cells": [
  {
   "cell_type": "markdown",
   "metadata": {},
   "source": [
    "## check if the parantheses is valid "
   ]
  },
  {
   "cell_type": "code",
   "execution_count": 1,
   "metadata": {},
   "outputs": [],
   "source": [
    "class py_solution:\n",
    "    def is_valid_parenthese(self, str1):\n",
    "        stack, pchar = [], {\"(\": \")\", \"{\": \"}\", \"[\": \"]\"}\n",
    "        \n",
    "        for parenthese in str1:\n",
    "            #(\n",
    "            #stack=(,)\n",
    "            if parenthese in pchar:\n",
    "                stack.append(parenthese)\n",
    "                \n",
    "            elif len(stack) == 0 or pchar[stack.pop()] != parenthese:\n",
    "                return False\n",
    "            \n",
    "        return len(stack) == 0"
   ]
  },
  {
   "cell_type": "code",
   "execution_count": 4,
   "metadata": {},
   "outputs": [],
   "source": [
    "p=py_solution()"
   ]
  },
  {
   "cell_type": "code",
   "execution_count": 7,
   "metadata": {},
   "outputs": [
    {
     "data": {
      "text/plain": [
       "False"
      ]
     },
     "execution_count": 7,
     "metadata": {},
     "output_type": "execute_result"
    }
   ],
   "source": [
    "p.is_valid_parenthese(\"{{{]}}}\")"
   ]
  },
  {
   "cell_type": "markdown",
   "metadata": {},
   "source": [
    "## convert to Int form Roman"
   ]
  },
  {
   "cell_type": "code",
   "execution_count": 38,
   "metadata": {},
   "outputs": [],
   "source": [
    "class PySolution:\n",
    "    def roman_to_init(s):\n",
    "        rom_val={'I': 1, 'V': 5, 'X': 10, 'L': 50, 'C': 100, 'D': 500, 'M': 1000}\n",
    "        int_val=0\n",
    "        for i in range(len(s)):\n",
    "            if i > 0 and rom_val[s[i]]>rom_val[s[i-1]]:\n",
    "                int_val +=rom_val[s[i]] - 2 * rom_val[s[i-1]]\n",
    "            else:\n",
    "                int_val+=rom_val[s[i]]\n",
    "        return int_val"
   ]
  },
  {
   "cell_type": "code",
   "execution_count": 39,
   "metadata": {},
   "outputs": [
    {
     "data": {
      "text/plain": [
       "5"
      ]
     },
     "execution_count": 39,
     "metadata": {},
     "output_type": "execute_result"
    }
   ],
   "source": [
    "PySolution.roman_to_init(\"IVI\")"
   ]
  },
  {
   "cell_type": "markdown",
   "metadata": {},
   "source": [
    "# Write a Python class to reverse a string word by word.\n",
    "### Input \"hello world\"\n",
    "### Output \"world hello\""
   ]
  },
  {
   "cell_type": "code",
   "execution_count": 86,
   "metadata": {},
   "outputs": [],
   "source": [
    "class revarseWord : \n",
    "    def rev(self,string):\n",
    "        stack=[]\n",
    "        ready=[]\n",
    "        for  word in string.split(\" \"):\n",
    "            stack.append(word)\n",
    "        while not len(stack) == 0 :\n",
    "            ready.append(stack.pop())\n",
    "        for i in ready:\n",
    "            print(i)\n",
    "            \n",
    "    def revOptimal(self,string):\n",
    "        return ' '.join(reversed(string.split(\" \")))\n",
    "        "
   ]
  },
  {
   "cell_type": "code",
   "execution_count": 87,
   "metadata": {},
   "outputs": [],
   "source": [
    "r = revarseWord()"
   ]
  },
  {
   "cell_type": "code",
   "execution_count": 88,
   "metadata": {},
   "outputs": [
    {
     "name": "stdout",
     "output_type": "stream",
     "text": [
      "cse\n",
      "ranody\n"
     ]
    }
   ],
   "source": [
    "r.rev(\"ranody cse\")"
   ]
  },
  {
   "cell_type": "code",
   "execution_count": 89,
   "metadata": {},
   "outputs": [
    {
     "data": {
      "text/plain": [
       "'cse ranody'"
      ]
     },
     "execution_count": 89,
     "metadata": {},
     "output_type": "execute_result"
    }
   ],
   "source": [
    "r.revOptimal(\"ranody cse\")"
   ]
  },
  {
   "cell_type": "code",
   "execution_count": null,
   "metadata": {},
   "outputs": [],
   "source": []
  },
  {
   "cell_type": "code",
   "execution_count": null,
   "metadata": {},
   "outputs": [],
   "source": []
  },
  {
   "cell_type": "markdown",
   "metadata": {},
   "source": [
    "## Write a Python program to find the three elements that sum to zero from a set (array) of n real numbers.\n",
    "#### Input\n",
    "#### [-25, -10, -7, -3, 2, 4, 8, 10]\n",
    "#### Output\n",
    "#### [[-10, 2, 8], [-7, -3, 10]] "
   ]
  },
  {
   "cell_type": "code",
   "execution_count": 148,
   "metadata": {},
   "outputs": [],
   "source": [
    "def findSumZeros(setTest):\n",
    "    solution=[]\n",
    "    stack=[]\n",
    "    tempSol=[]\n",
    "    acc=0\n",
    "    stack.append(setTest[0])\n",
    "    stack.append(setTest[1])\n",
    "    for i in range(2,len(setTest)):\n",
    "        stack.append(setTest[i])\n",
    "        if len(stack)==3:\n",
    "            for i in range(len(stack)):\n",
    "                temp=stack.pop()\n",
    "                tempSol.append(temp)\n",
    "                acc=acc+temp        \n",
    "            if acc == 0 :\n",
    "                solution.append(tempSol)\n",
    "                tempSol=[]\n",
    "                stack=[]\n",
    "    return solution"
   ]
  },
  {
   "cell_type": "code",
   "execution_count": 151,
   "metadata": {},
   "outputs": [],
   "source": [
    "data=findSumZeros([1,2,-3,2,8,-10])"
   ]
  },
  {
   "cell_type": "code",
   "execution_count": 152,
   "metadata": {},
   "outputs": [
    {
     "data": {
      "text/plain": [
       "[[-3, 2, 1], [-10, 8, 2]]"
      ]
     },
     "execution_count": 152,
     "metadata": {},
     "output_type": "execute_result"
    }
   ],
   "source": [
    "data"
   ]
  },
  {
   "cell_type": "markdown",
   "metadata": {},
   "source": [
    "# String"
   ]
  },
  {
   "cell_type": "markdown",
   "metadata": {},
   "source": [
    "# caesar encryption"
   ]
  },
  {
   "cell_type": "code",
   "execution_count": 36,
   "metadata": {},
   "outputs": [],
   "source": [
    "def doEncript(String,valuInc):\n",
    "    location = -1\n",
    "    encWord=[]\n",
    "    encData=[]\n",
    "    letters = ['a','b', 'c', 'd', 'e', 'f', 'g', 'h', 'i', 'j', 'k', 'l', 'm', 'n', 'o', 'p', 'q', 'r', 's', 't', 'u', 'v', 'w', 'x', 'y', 'z']\n",
    "    for word in String.split(\" \"):\n",
    "        for letter in word:\n",
    "            temp=letter\n",
    "            for i in letters:\n",
    "                location=location+1\n",
    "                if i == temp :\n",
    "                    found=location\n",
    "                    break\n",
    "            encLetter = letters[(found-valuInc)%26]\n",
    "            encWord.append(encLetter)            \n",
    "        encData.append(encWord)\n",
    "        encWord=[]\n",
    "    print (encData)\n",
    "    for i in encData:\n",
    "        print(''.join(i))\n",
    "                    "
   ]
  },
  {
   "cell_type": "code",
   "execution_count": 37,
   "metadata": {},
   "outputs": [
    {
     "name": "stdout",
     "output_type": "stream",
     "text": [
      "[['v', 'a'], ['k', 'u']]\n",
      "va\n",
      "ku\n"
     ]
    }
   ],
   "source": [
    "doEncript(\"ae jj\",5)"
   ]
  },
  {
   "cell_type": "code",
   "execution_count": null,
   "metadata": {},
   "outputs": [],
   "source": []
  },
  {
   "cell_type": "code",
   "execution_count": null,
   "metadata": {},
   "outputs": [],
   "source": []
  }
 ],
 "metadata": {
  "kernelspec": {
   "display_name": "Python 3",
   "language": "python",
   "name": "python3"
  },
  "language_info": {
   "codemirror_mode": {
    "name": "ipython",
    "version": 3
   },
   "file_extension": ".py",
   "mimetype": "text/x-python",
   "name": "python",
   "nbconvert_exporter": "python",
   "pygments_lexer": "ipython3",
   "version": "3.7.0"
  }
 },
 "nbformat": 4,
 "nbformat_minor": 2
}
